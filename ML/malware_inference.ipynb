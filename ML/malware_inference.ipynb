{
 "cells": [
  {
   "cell_type": "code",
   "execution_count": 45,
   "id": "38eeb059-970d-4c75-9c1e-645aa8345c6b",
   "metadata": {},
   "outputs": [],
   "source": [
    "import numpy as np\n",
    "import pandas as pd\n",
    "import os"
   ]
  },
  {
   "cell_type": "code",
   "execution_count": 46,
   "id": "4746771a-3a14-4191-8239-845ed6bdb18d",
   "metadata": {},
   "outputs": [],
   "source": [
    "from sklearn.model_selection import train_test_split\n",
    "from sklearn.preprocessing import StandardScaler\n",
    "from sklearn.ensemble import RandomForestClassifier\n",
    "from sklearn.pipeline import Pipeline"
   ]
  },
  {
   "cell_type": "code",
   "execution_count": 47,
   "id": "82899bd3-ef08-487b-92a3-cb47da3f269c",
   "metadata": {},
   "outputs": [
    {
     "data": {
      "text/html": [
       "<div>\n",
       "<style scoped>\n",
       "    .dataframe tbody tr th:only-of-type {\n",
       "        vertical-align: middle;\n",
       "    }\n",
       "\n",
       "    .dataframe tbody tr th {\n",
       "        vertical-align: top;\n",
       "    }\n",
       "\n",
       "    .dataframe thead th {\n",
       "        text-align: right;\n",
       "    }\n",
       "</style>\n",
       "<table border=\"1\" class=\"dataframe\">\n",
       "  <thead>\n",
       "    <tr style=\"text-align: right;\">\n",
       "      <th></th>\n",
       "      <th>ID</th>\n",
       "      <th>.text:</th>\n",
       "      <th>.Pav:</th>\n",
       "      <th>.idata:</th>\n",
       "      <th>.data:</th>\n",
       "      <th>.bss:</th>\n",
       "      <th>.rdata:</th>\n",
       "      <th>.edata:</th>\n",
       "      <th>.rsrc:</th>\n",
       "      <th>.tls:</th>\n",
       "      <th>...</th>\n",
       "      <th>esi</th>\n",
       "      <th>eax</th>\n",
       "      <th>ebx</th>\n",
       "      <th>ecx</th>\n",
       "      <th>edi</th>\n",
       "      <th>ebp</th>\n",
       "      <th>esp</th>\n",
       "      <th>eip</th>\n",
       "      <th>Class</th>\n",
       "      <th>size</th>\n",
       "    </tr>\n",
       "  </thead>\n",
       "  <tbody>\n",
       "    <tr>\n",
       "      <th>0</th>\n",
       "      <td>00000fa1585e99fcb5e8728b96f173ff61b08fc152e2f5...</td>\n",
       "      <td>55216</td>\n",
       "      <td>0</td>\n",
       "      <td>0</td>\n",
       "      <td>53660</td>\n",
       "      <td>0</td>\n",
       "      <td>0</td>\n",
       "      <td>0</td>\n",
       "      <td>26554</td>\n",
       "      <td>0</td>\n",
       "      <td>...</td>\n",
       "      <td>12360</td>\n",
       "      <td>28050</td>\n",
       "      <td>7434</td>\n",
       "      <td>9660</td>\n",
       "      <td>11738</td>\n",
       "      <td>10124</td>\n",
       "      <td>4018</td>\n",
       "      <td>0</td>\n",
       "      <td>SmokeLoader</td>\n",
       "      <td>4.970940</td>\n",
       "    </tr>\n",
       "    <tr>\n",
       "      <th>1</th>\n",
       "      <td>000285eadc4e6a68f32343409159c1b44aed8a0bc1c0cd...</td>\n",
       "      <td>108948</td>\n",
       "      <td>0</td>\n",
       "      <td>0</td>\n",
       "      <td>35594</td>\n",
       "      <td>0</td>\n",
       "      <td>33524</td>\n",
       "      <td>0</td>\n",
       "      <td>17770</td>\n",
       "      <td>0</td>\n",
       "      <td>...</td>\n",
       "      <td>17483</td>\n",
       "      <td>43039</td>\n",
       "      <td>9501</td>\n",
       "      <td>16834</td>\n",
       "      <td>13807</td>\n",
       "      <td>16826</td>\n",
       "      <td>8436</td>\n",
       "      <td>0</td>\n",
       "      <td>Loki</td>\n",
       "      <td>6.326924</td>\n",
       "    </tr>\n",
       "    <tr>\n",
       "      <th>2</th>\n",
       "      <td>00037a0cc29f3c99e88aeb57af189e291c6fe38b8b2527...</td>\n",
       "      <td>311819</td>\n",
       "      <td>0</td>\n",
       "      <td>0</td>\n",
       "      <td>0</td>\n",
       "      <td>0</td>\n",
       "      <td>0</td>\n",
       "      <td>0</td>\n",
       "      <td>64656</td>\n",
       "      <td>0</td>\n",
       "      <td>...</td>\n",
       "      <td>30109</td>\n",
       "      <td>84735</td>\n",
       "      <td>16436</td>\n",
       "      <td>15685</td>\n",
       "      <td>44207</td>\n",
       "      <td>11887</td>\n",
       "      <td>20710</td>\n",
       "      <td>0</td>\n",
       "      <td>njrat</td>\n",
       "      <td>13.333300</td>\n",
       "    </tr>\n",
       "    <tr>\n",
       "      <th>3</th>\n",
       "      <td>0004033aedd01d2928c1c31abb57633f1c493a213eae73...</td>\n",
       "      <td>800645</td>\n",
       "      <td>0</td>\n",
       "      <td>0</td>\n",
       "      <td>0</td>\n",
       "      <td>0</td>\n",
       "      <td>0</td>\n",
       "      <td>0</td>\n",
       "      <td>19250</td>\n",
       "      <td>0</td>\n",
       "      <td>...</td>\n",
       "      <td>78108</td>\n",
       "      <td>202422</td>\n",
       "      <td>43124</td>\n",
       "      <td>46524</td>\n",
       "      <td>74276</td>\n",
       "      <td>29626</td>\n",
       "      <td>19958</td>\n",
       "      <td>0</td>\n",
       "      <td>Loki</td>\n",
       "      <td>30.803483</td>\n",
       "    </tr>\n",
       "    <tr>\n",
       "      <th>4</th>\n",
       "      <td>000410685bd62172ae00cafa761c1420f219d323deade1...</td>\n",
       "      <td>106442</td>\n",
       "      <td>0</td>\n",
       "      <td>0</td>\n",
       "      <td>52749</td>\n",
       "      <td>0</td>\n",
       "      <td>0</td>\n",
       "      <td>0</td>\n",
       "      <td>22424</td>\n",
       "      <td>0</td>\n",
       "      <td>...</td>\n",
       "      <td>10939</td>\n",
       "      <td>37113</td>\n",
       "      <td>6741</td>\n",
       "      <td>17573</td>\n",
       "      <td>11825</td>\n",
       "      <td>24366</td>\n",
       "      <td>8272</td>\n",
       "      <td>0</td>\n",
       "      <td>Loki</td>\n",
       "      <td>6.981380</td>\n",
       "    </tr>\n",
       "  </tbody>\n",
       "</table>\n",
       "<p>5 rows × 50 columns</p>\n",
       "</div>"
      ],
      "text/plain": [
       "                                                  ID  .text:  .Pav:  .idata:  \\\n",
       "0  00000fa1585e99fcb5e8728b96f173ff61b08fc152e2f5...   55216      0        0   \n",
       "1  000285eadc4e6a68f32343409159c1b44aed8a0bc1c0cd...  108948      0        0   \n",
       "2  00037a0cc29f3c99e88aeb57af189e291c6fe38b8b2527...  311819      0        0   \n",
       "3  0004033aedd01d2928c1c31abb57633f1c493a213eae73...  800645      0        0   \n",
       "4  000410685bd62172ae00cafa761c1420f219d323deade1...  106442      0        0   \n",
       "\n",
       "   .data:  .bss:  .rdata:  .edata:  .rsrc:  .tls:  ...    esi     eax    ebx  \\\n",
       "0   53660      0        0        0   26554      0  ...  12360   28050   7434   \n",
       "1   35594      0    33524        0   17770      0  ...  17483   43039   9501   \n",
       "2       0      0        0        0   64656      0  ...  30109   84735  16436   \n",
       "3       0      0        0        0   19250      0  ...  78108  202422  43124   \n",
       "4   52749      0        0        0   22424      0  ...  10939   37113   6741   \n",
       "\n",
       "     ecx    edi    ebp    esp  eip        Class       size  \n",
       "0   9660  11738  10124   4018    0  SmokeLoader   4.970940  \n",
       "1  16834  13807  16826   8436    0         Loki   6.326924  \n",
       "2  15685  44207  11887  20710    0        njrat  13.333300  \n",
       "3  46524  74276  29626  19958    0         Loki  30.803483  \n",
       "4  17573  11825  24366   8272    0         Loki   6.981380  \n",
       "\n",
       "[5 rows x 50 columns]"
      ]
     },
     "execution_count": 47,
     "metadata": {},
     "output_type": "execute_result"
    }
   ],
   "source": [
    "CSV_PATH = os.path.join(os.getcwd(), '..\\\\final.csv')\n",
    "ug = pd.read_csv(CSV_PATH)\n",
    "ug.head()"
   ]
  },
  {
   "cell_type": "code",
   "execution_count": 48,
   "id": "0b8cbffe-6409-4f56-bd86-fbea4d411943",
   "metadata": {},
   "outputs": [],
   "source": [
    "null_op = ug.columns[~ug.any()].tolist()\n",
    "ug.drop(null_op, axis=1, inplace = True)"
   ]
  },
  {
   "cell_type": "code",
   "execution_count": 49,
   "id": "c50dac04-279e-41a2-b50c-32008dc6b482",
   "metadata": {},
   "outputs": [],
   "source": [
    "ug.drop('ID', axis = 1, inplace = True)"
   ]
  },
  {
   "cell_type": "code",
   "execution_count": 50,
   "id": "9fbb21aa-58fe-4c5b-9717-4414d7a3cfa8",
   "metadata": {},
   "outputs": [],
   "source": [
    "X = ug.drop(\"Class\", axis = 1)\n",
    "y = ug[\"Class\"]\n",
    "X_train, X_test, y_train, y_test = train_test_split(X, y, test_size = 0.2, random_state = 36)"
   ]
  },
  {
   "cell_type": "code",
   "execution_count": 51,
   "id": "450177fa-1765-4461-b913-d48b2c811fcb",
   "metadata": {},
   "outputs": [],
   "source": [
    "scaler = StandardScaler()"
   ]
  },
  {
   "cell_type": "code",
   "execution_count": 52,
   "id": "880d66d9-aefa-46ea-942c-b51a9f58f66b",
   "metadata": {},
   "outputs": [],
   "source": [
    "clf_ranfo = RandomForestClassifier(max_depth=40, random_state=0)"
   ]
  },
  {
   "cell_type": "code",
   "execution_count": 53,
   "id": "89311073-1257-4d20-815d-8b09f4a33a5c",
   "metadata": {},
   "outputs": [],
   "source": [
    "pipe = Pipeline([('scaler', scaler), ('ranfo', clf_ranfo)])"
   ]
  },
  {
   "cell_type": "code",
   "execution_count": 54,
   "id": "a66d1924-c140-409a-9390-2db039f4d692",
   "metadata": {},
   "outputs": [
    {
     "data": {
      "text/plain": [
       "Pipeline(steps=[('scaler', StandardScaler()),\n",
       "                ('ranfo',\n",
       "                 RandomForestClassifier(max_depth=40, random_state=0))])"
      ]
     },
     "execution_count": 54,
     "metadata": {},
     "output_type": "execute_result"
    }
   ],
   "source": [
    "pipe.fit(X_train.values, y_train.values)"
   ]
  },
  {
   "cell_type": "code",
   "execution_count": 55,
   "id": "51a20913-f908-4555-b524-be81529d37ee",
   "metadata": {},
   "outputs": [],
   "source": [
    "def get_results(model, X_train, X_test):\n",
    "    y_pred_train = model.predict(X_train)\n",
    "    y_pred_test = model.predict(X_test)\n",
    "    print(\"\\t\"*2,\"*\"*8, \"RESULTS FOR TRAIN SET\", \"*\"*8)\n",
    "    print(classification_report(y_train, y_pred_train))\n",
    "    print(\"\\n\")\n",
    "    print(\"\\t\"*2, \"*\"*8, \"RESULTS FOR TEST SET\", \"*\"*8)\n",
    "    print(classification_report(y_test, y_pred_test))"
   ]
  },
  {
   "cell_type": "code",
   "execution_count": 65,
   "id": "19ecd5b0-5e14-4964-aa58-1bb5cb7d1743",
   "metadata": {},
   "outputs": [
    {
     "name": "stdout",
     "output_type": "stream",
     "text": [
      "\t\t ******** RESULTS FOR TRAIN SET ********\n",
      "                precision    recall  f1-score   support\n",
      "\n",
      "        Amadey       1.00      1.00      1.00      2175\n",
      "          Loki       1.00      0.88      0.93      6917\n",
      "   SmokeLoader       1.00      0.61      0.76      6053\n",
      "SnakeKeyLogger       0.65      1.00      0.79      6101\n",
      "         njrat       1.00      0.98      0.99      3045\n",
      " non-malicious       1.00      0.98      0.99       768\n",
      "\n",
      "      accuracy                           0.87     25059\n",
      "     macro avg       0.94      0.91      0.91     25059\n",
      "  weighted avg       0.91      0.87      0.87     25059\n",
      "\n",
      "\n",
      "\n",
      "\t\t ******** RESULTS FOR TEST SET ********\n",
      "                precision    recall  f1-score   support\n",
      "\n",
      "        Amadey       0.95      0.89      0.92       528\n",
      "          Loki       0.91      0.75      0.82      1769\n",
      "   SmokeLoader       0.94      0.56      0.70      1526\n",
      "SnakeKeyLogger       0.57      0.94      0.71      1510\n",
      "         njrat       0.93      0.87      0.90       718\n",
      " non-malicious       0.96      0.90      0.93       214\n",
      "\n",
      "      accuracy                           0.78      6265\n",
      "     macro avg       0.87      0.82      0.83      6265\n",
      "  weighted avg       0.84      0.78      0.79      6265\n",
      "\n"
     ]
    }
   ],
   "source": [
    "get_results(pipe, X_train.values, X_test.values)"
   ]
  },
  {
   "cell_type": "code",
   "execution_count": 57,
   "id": "51129a09-5954-4154-8e50-ea0ec433bae0",
   "metadata": {},
   "outputs": [],
   "source": [
    "from joblib import dump, load"
   ]
  },
  {
   "cell_type": "code",
   "execution_count": 58,
   "id": "29250485-2458-4629-bbcc-aa4d74bd4fd9",
   "metadata": {},
   "outputs": [],
   "source": [
    "OUTPUT_FILE = 'model_ranfo_v1.joblib'"
   ]
  },
  {
   "cell_type": "code",
   "execution_count": 59,
   "id": "3b552bbd-939f-49ec-a6e1-19e11e14c9b9",
   "metadata": {},
   "outputs": [
    {
     "data": {
      "text/plain": [
       "['model_ranfo_v1.joblib']"
      ]
     },
     "execution_count": 59,
     "metadata": {},
     "output_type": "execute_result"
    }
   ],
   "source": [
    "dump(pipe, OUTPUT_FILE) "
   ]
  },
  {
   "cell_type": "code",
   "execution_count": 60,
   "id": "b8e5af0b-349d-4069-94ea-c598bfbe25f4",
   "metadata": {},
   "outputs": [],
   "source": [
    "model = load(OUTPUT_FILE) "
   ]
  },
  {
   "cell_type": "code",
   "execution_count": 61,
   "id": "97fedec3-bbee-4e54-ad5b-88c00aecfe96",
   "metadata": {},
   "outputs": [],
   "source": [
    "ran = np.random.randint(0, 100)\n",
    "eg_X = X_test.iloc[ran]\n",
    "eg_y = y_test.iloc[ran]"
   ]
  },
  {
   "cell_type": "code",
   "execution_count": 62,
   "id": "982605d4-17d4-4d8d-ae3f-ff123bdae653",
   "metadata": {},
   "outputs": [
    {
     "data": {
      "text/plain": [
       "array(['Loki'], dtype=object)"
      ]
     },
     "execution_count": 62,
     "metadata": {},
     "output_type": "execute_result"
    }
   ],
   "source": [
    "model.predict([eg_X])"
   ]
  },
  {
   "cell_type": "code",
   "execution_count": 63,
   "id": "0c16fe9d-80dc-4f4c-81b2-9b0a14d2dcc1",
   "metadata": {},
   "outputs": [
    {
     "data": {
      "text/plain": [
       "'Loki'"
      ]
     },
     "execution_count": 63,
     "metadata": {},
     "output_type": "execute_result"
    }
   ],
   "source": [
    "eg_y"
   ]
  },
  {
   "cell_type": "code",
   "execution_count": 69,
   "id": "d5743765-0c82-47ce-b6aa-20681bf49bb9",
   "metadata": {},
   "outputs": [
    {
     "data": {
      "text/plain": [
       "(25059, 41)"
      ]
     },
     "execution_count": 69,
     "metadata": {},
     "output_type": "execute_result"
    }
   ],
   "source": [
    "X_train.shape"
   ]
  },
  {
   "cell_type": "code",
   "execution_count": 71,
   "id": "9a432d1c-7895-4c40-8702-26f94fe1df4f",
   "metadata": {},
   "outputs": [
    {
     "name": "stdout",
     "output_type": "stream",
     "text": [
      "[11, 12, 13, 14, 15, 16, 17, 18, 19, 20, 21, 22, 23, 24, 25, 26, 27, 28, 29, 30, 31, 32, 33, 34, 35, 36, 37, 38, 39, 40, 41, 42, 43, 44, 45, 46, 47, 48, 49, 50, 51]\n"
     ]
    }
   ],
   "source": [
    "print([x+11 for x in range(41)])"
   ]
  },
  {
   "cell_type": "code",
   "execution_count": 72,
   "id": "649b7518-4bb1-4067-affa-d80538ca5b66",
   "metadata": {},
   "outputs": [
    {
     "data": {
      "text/plain": [
       "array(['non-malicious'], dtype=object)"
      ]
     },
     "execution_count": 72,
     "metadata": {},
     "output_type": "execute_result"
    }
   ],
   "source": [
    "\"\"\"\n",
    "    example code to load model and make prediction\n",
    "    input shape: 41\n",
    "\"\"\"\n",
    "from joblib import load\n",
    "model = load(OUTPUT_FILE)\n",
    "model.predict([[11, 12, 13, 14, 15, 16, 17, 18, 19, 20, 21, 22, 23, 24, 25, 26, 27, 28, 29, 30, 31, 32, 33, 34, 35, 36, 37, 38, 39, 40, 41, 42, 43, 44, 45, 46, 47, 48, 49, 50, 51]])"
   ]
  },
  {
   "cell_type": "code",
   "execution_count": null,
   "id": "ccca028b-7bea-401b-b9d4-099899538e5b",
   "metadata": {},
   "outputs": [],
   "source": [
    "features = ['.text:', '.idata:', '.data:', '.bss:', '.rdata:', '.edata:', '.rsrc:',\n",
    "       '.tls:', '.reloc:', 'jmp', 'mov', 'retf', 'push', 'pop', 'xor', 'nop',\n",
    "       'sub', 'inc', 'dec', 'add', 'imul', 'xchg', 'or', 'shr', 'cmp', 'call',\n",
    "       'shl', 'ror', 'rol', 'jz', 'lea', 'movzx', 'edx', 'esi', 'eax', 'ebx',\n",
    "       'ecx', 'edi', 'ebp', 'esp', 'size']"
   ]
  }
 ],
 "metadata": {
  "kernelspec": {
   "display_name": "Python 3 (ipykernel)",
   "language": "python",
   "name": "python3"
  },
  "language_info": {
   "codemirror_mode": {
    "name": "ipython",
    "version": 3
   },
   "file_extension": ".py",
   "mimetype": "text/x-python",
   "name": "python",
   "nbconvert_exporter": "python",
   "pygments_lexer": "ipython3",
   "version": "3.9.13"
  }
 },
 "nbformat": 4,
 "nbformat_minor": 5
}
